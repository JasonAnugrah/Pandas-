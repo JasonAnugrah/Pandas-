{
  "metadata": {
    "kernelspec": {
      "name": "python",
      "display_name": "Python (Pyodide)",
      "language": "python"
    },
    "language_info": {
      "codemirror_mode": {
        "name": "python",
        "version": 3
      },
      "file_extension": ".py",
      "mimetype": "text/x-python",
      "name": "python",
      "nbconvert_exporter": "python",
      "pygments_lexer": "ipython3",
      "version": "3.8"
    }
  },
  "nbformat_minor": 4,
  "nbformat": 4,
  "cells": [
    {
      "cell_type": "code",
      "source": "import pandas as pd\n\nprint(pd.__version__)",
      "metadata": {
        "trusted": true
      },
      "outputs": [
        {
          "name": "stdout",
          "text": "1.5.3\n",
          "output_type": "stream"
        }
      ],
      "execution_count": 1
    },
    {
      "cell_type": "code",
      "source": "data = {'nama': ['bayu', 'indra', 'devi', 'agni'],\n        'jenis_kelamin': ['L', 'L', 'P', 'L'], \n        'usia': [23, 21, 22, 25]}\n\ndf = pd.DataFrame(data)\ndf",
      "metadata": {
        "trusted": true
      },
      "outputs": [
        {
          "execution_count": 2,
          "output_type": "execute_result",
          "data": {
            "text/plain": "    nama jenis_kelamin  usia\n0   bayu             L    23\n1  indra             L    21\n2   devi             P    22\n3   agni             L    25",
            "text/html": "<div>\n<style scoped>\n    .dataframe tbody tr th:only-of-type {\n        vertical-align: middle;\n    }\n\n    .dataframe tbody tr th {\n        vertical-align: top;\n    }\n\n    .dataframe thead th {\n        text-align: right;\n    }\n</style>\n<table border=\"1\" class=\"dataframe\">\n  <thead>\n    <tr style=\"text-align: right;\">\n      <th></th>\n      <th>nama</th>\n      <th>jenis_kelamin</th>\n      <th>usia</th>\n    </tr>\n  </thead>\n  <tbody>\n    <tr>\n      <th>0</th>\n      <td>bayu</td>\n      <td>L</td>\n      <td>23</td>\n    </tr>\n    <tr>\n      <th>1</th>\n      <td>indra</td>\n      <td>L</td>\n      <td>21</td>\n    </tr>\n    <tr>\n      <th>2</th>\n      <td>devi</td>\n      <td>P</td>\n      <td>22</td>\n    </tr>\n    <tr>\n      <th>3</th>\n      <td>agni</td>\n      <td>L</td>\n      <td>25</td>\n    </tr>\n  </tbody>\n</table>\n</div>"
          },
          "metadata": {}
        }
      ],
      "execution_count": 2
    },
    {
      "cell_type": "code",
      "source": "df['nama'].str.cat(df['jenis_kelamin'], sep=', ').to_frame()",
      "metadata": {
        "trusted": true
      },
      "outputs": [
        {
          "execution_count": 3,
          "output_type": "execute_result",
          "data": {
            "text/plain": "       nama\n0   bayu, L\n1  indra, L\n2   devi, P\n3   agni, L",
            "text/html": "<div>\n<style scoped>\n    .dataframe tbody tr th:only-of-type {\n        vertical-align: middle;\n    }\n\n    .dataframe tbody tr th {\n        vertical-align: top;\n    }\n\n    .dataframe thead th {\n        text-align: right;\n    }\n</style>\n<table border=\"1\" class=\"dataframe\">\n  <thead>\n    <tr style=\"text-align: right;\">\n      <th></th>\n      <th>nama</th>\n    </tr>\n  </thead>\n  <tbody>\n    <tr>\n      <th>0</th>\n      <td>bayu, L</td>\n    </tr>\n    <tr>\n      <th>1</th>\n      <td>indra, L</td>\n    </tr>\n    <tr>\n      <th>2</th>\n      <td>devi, P</td>\n    </tr>\n    <tr>\n      <th>3</th>\n      <td>agni, L</td>\n    </tr>\n  </tbody>\n</table>\n</div>"
          },
          "metadata": {}
        }
      ],
      "execution_count": 3
    },
    {
      "cell_type": "code",
      "source": "df['nama_jk'] = df['nama'].str.cat(df['jenis_kelamin'], sep=', ')\ndf",
      "metadata": {
        "trusted": true
      },
      "outputs": [
        {
          "execution_count": 4,
          "output_type": "execute_result",
          "data": {
            "text/plain": "    nama jenis_kelamin  usia   nama_jk\n0   bayu             L    23   bayu, L\n1  indra             L    21  indra, L\n2   devi             P    22   devi, P\n3   agni             L    25   agni, L",
            "text/html": "<div>\n<style scoped>\n    .dataframe tbody tr th:only-of-type {\n        vertical-align: middle;\n    }\n\n    .dataframe tbody tr th {\n        vertical-align: top;\n    }\n\n    .dataframe thead th {\n        text-align: right;\n    }\n</style>\n<table border=\"1\" class=\"dataframe\">\n  <thead>\n    <tr style=\"text-align: right;\">\n      <th></th>\n      <th>nama</th>\n      <th>jenis_kelamin</th>\n      <th>usia</th>\n      <th>nama_jk</th>\n    </tr>\n  </thead>\n  <tbody>\n    <tr>\n      <th>0</th>\n      <td>bayu</td>\n      <td>L</td>\n      <td>23</td>\n      <td>bayu, L</td>\n    </tr>\n    <tr>\n      <th>1</th>\n      <td>indra</td>\n      <td>L</td>\n      <td>21</td>\n      <td>indra, L</td>\n    </tr>\n    <tr>\n      <th>2</th>\n      <td>devi</td>\n      <td>P</td>\n      <td>22</td>\n      <td>devi, P</td>\n    </tr>\n    <tr>\n      <th>3</th>\n      <td>agni</td>\n      <td>L</td>\n      <td>25</td>\n      <td>agni, L</td>\n    </tr>\n  </tbody>\n</table>\n</div>"
          },
          "metadata": {}
        }
      ],
      "execution_count": 4
    },
    {
      "cell_type": "code",
      "source": "df['nama'].str.cat(df['usia'].astype('str'), sep=' - ').to_frame()",
      "metadata": {
        "trusted": true
      },
      "outputs": [
        {
          "execution_count": 5,
          "output_type": "execute_result",
          "data": {
            "text/plain": "         nama\n0   bayu - 23\n1  indra - 21\n2   devi - 22\n3   agni - 25",
            "text/html": "<div>\n<style scoped>\n    .dataframe tbody tr th:only-of-type {\n        vertical-align: middle;\n    }\n\n    .dataframe tbody tr th {\n        vertical-align: top;\n    }\n\n    .dataframe thead th {\n        text-align: right;\n    }\n</style>\n<table border=\"1\" class=\"dataframe\">\n  <thead>\n    <tr style=\"text-align: right;\">\n      <th></th>\n      <th>nama</th>\n    </tr>\n  </thead>\n  <tbody>\n    <tr>\n      <th>0</th>\n      <td>bayu - 23</td>\n    </tr>\n    <tr>\n      <th>1</th>\n      <td>indra - 21</td>\n    </tr>\n    <tr>\n      <th>2</th>\n      <td>devi - 22</td>\n    </tr>\n    <tr>\n      <th>3</th>\n      <td>agni - 25</td>\n    </tr>\n  </tbody>\n</table>\n</div>"
          },
          "metadata": {}
        }
      ],
      "execution_count": 5
    },
    {
      "cell_type": "code",
      "source": "df['nama_usia'] = df['nama'].str.cat(df['usia'].astype('str'), sep=' - ')\ndf",
      "metadata": {
        "trusted": true
      },
      "outputs": [
        {
          "execution_count": 6,
          "output_type": "execute_result",
          "data": {
            "text/plain": "    nama jenis_kelamin  usia   nama_jk   nama_usia\n0   bayu             L    23   bayu, L   bayu - 23\n1  indra             L    21  indra, L  indra - 21\n2   devi             P    22   devi, P   devi - 22\n3   agni             L    25   agni, L   agni - 25",
            "text/html": "<div>\n<style scoped>\n    .dataframe tbody tr th:only-of-type {\n        vertical-align: middle;\n    }\n\n    .dataframe tbody tr th {\n        vertical-align: top;\n    }\n\n    .dataframe thead th {\n        text-align: right;\n    }\n</style>\n<table border=\"1\" class=\"dataframe\">\n  <thead>\n    <tr style=\"text-align: right;\">\n      <th></th>\n      <th>nama</th>\n      <th>jenis_kelamin</th>\n      <th>usia</th>\n      <th>nama_jk</th>\n      <th>nama_usia</th>\n    </tr>\n  </thead>\n  <tbody>\n    <tr>\n      <th>0</th>\n      <td>bayu</td>\n      <td>L</td>\n      <td>23</td>\n      <td>bayu, L</td>\n      <td>bayu - 23</td>\n    </tr>\n    <tr>\n      <th>1</th>\n      <td>indra</td>\n      <td>L</td>\n      <td>21</td>\n      <td>indra, L</td>\n      <td>indra - 21</td>\n    </tr>\n    <tr>\n      <th>2</th>\n      <td>devi</td>\n      <td>P</td>\n      <td>22</td>\n      <td>devi, P</td>\n      <td>devi - 22</td>\n    </tr>\n    <tr>\n      <th>3</th>\n      <td>agni</td>\n      <td>L</td>\n      <td>25</td>\n      <td>agni, L</td>\n      <td>agni - 25</td>\n    </tr>\n  </tbody>\n</table>\n</div>"
          },
          "metadata": {}
        }
      ],
      "execution_count": 6
    }
  ]
}