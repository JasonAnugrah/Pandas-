{
  "metadata": {
    "kernelspec": {
      "name": "python",
      "display_name": "Python (Pyodide)",
      "language": "python"
    },
    "language_info": {
      "codemirror_mode": {
        "name": "python",
        "version": 3
      },
      "file_extension": ".py",
      "mimetype": "text/x-python",
      "name": "python",
      "nbconvert_exporter": "python",
      "pygments_lexer": "ipython3",
      "version": "3.8"
    }
  },
  "nbformat_minor": 4,
  "nbformat": 4,
  "cells": [
    {
      "cell_type": "code",
      "source": "import pandas as pd\n\nprint(pd.__version__)",
      "metadata": {
        "trusted": true
      },
      "outputs": [
        {
          "name": "stdout",
          "text": "1.5.3\n",
          "output_type": "stream"
        }
      ],
      "execution_count": 1
    },
    {
      "cell_type": "code",
      "source": "d = {'pemain':['Budi', 'Joni', 'Iwan', 'Budi', 'Budi', 'Iwan', 'Asep', 'Joni'], \n     'goal':[2, 1, 3, 1, 1, 2, 2, 3]}\ndf = pd.DataFrame(d)\ndf",
      "metadata": {
        "trusted": true
      },
      "outputs": [
        {
          "execution_count": 2,
          "output_type": "execute_result",
          "data": {
            "text/plain": "  pemain  goal\n0   Budi     2\n1   Joni     1\n2   Iwan     3\n3   Budi     1\n4   Budi     1\n5   Iwan     2\n6   Asep     2\n7   Joni     3",
            "text/html": "<div>\n<style scoped>\n    .dataframe tbody tr th:only-of-type {\n        vertical-align: middle;\n    }\n\n    .dataframe tbody tr th {\n        vertical-align: top;\n    }\n\n    .dataframe thead th {\n        text-align: right;\n    }\n</style>\n<table border=\"1\" class=\"dataframe\">\n  <thead>\n    <tr style=\"text-align: right;\">\n      <th></th>\n      <th>pemain</th>\n      <th>goal</th>\n    </tr>\n  </thead>\n  <tbody>\n    <tr>\n      <th>0</th>\n      <td>Budi</td>\n      <td>2</td>\n    </tr>\n    <tr>\n      <th>1</th>\n      <td>Joni</td>\n      <td>1</td>\n    </tr>\n    <tr>\n      <th>2</th>\n      <td>Iwan</td>\n      <td>3</td>\n    </tr>\n    <tr>\n      <th>3</th>\n      <td>Budi</td>\n      <td>1</td>\n    </tr>\n    <tr>\n      <th>4</th>\n      <td>Budi</td>\n      <td>1</td>\n    </tr>\n    <tr>\n      <th>5</th>\n      <td>Iwan</td>\n      <td>2</td>\n    </tr>\n    <tr>\n      <th>6</th>\n      <td>Asep</td>\n      <td>2</td>\n    </tr>\n    <tr>\n      <th>7</th>\n      <td>Joni</td>\n      <td>3</td>\n    </tr>\n  </tbody>\n</table>\n</div>"
          },
          "metadata": {}
        }
      ],
      "execution_count": 2
    },
    {
      "cell_type": "code",
      "source": "df['goal'].cumsum().to_frame()",
      "metadata": {
        "trusted": true
      },
      "outputs": [
        {
          "execution_count": 3,
          "output_type": "execute_result",
          "data": {
            "text/plain": "   goal\n0     2\n1     3\n2     6\n3     7\n4     8\n5    10\n6    12\n7    15",
            "text/html": "<div>\n<style scoped>\n    .dataframe tbody tr th:only-of-type {\n        vertical-align: middle;\n    }\n\n    .dataframe tbody tr th {\n        vertical-align: top;\n    }\n\n    .dataframe thead th {\n        text-align: right;\n    }\n</style>\n<table border=\"1\" class=\"dataframe\">\n  <thead>\n    <tr style=\"text-align: right;\">\n      <th></th>\n      <th>goal</th>\n    </tr>\n  </thead>\n  <tbody>\n    <tr>\n      <th>0</th>\n      <td>2</td>\n    </tr>\n    <tr>\n      <th>1</th>\n      <td>3</td>\n    </tr>\n    <tr>\n      <th>2</th>\n      <td>6</td>\n    </tr>\n    <tr>\n      <th>3</th>\n      <td>7</td>\n    </tr>\n    <tr>\n      <th>4</th>\n      <td>8</td>\n    </tr>\n    <tr>\n      <th>5</th>\n      <td>10</td>\n    </tr>\n    <tr>\n      <th>6</th>\n      <td>12</td>\n    </tr>\n    <tr>\n      <th>7</th>\n      <td>15</td>\n    </tr>\n  </tbody>\n</table>\n</div>"
          },
          "metadata": {}
        }
      ],
      "execution_count": 3
    },
    {
      "cell_type": "code",
      "source": "df['jumlah_goal_kumulatif'] = df['goal'].cumsum()\ndf",
      "metadata": {
        "trusted": true
      },
      "outputs": [
        {
          "execution_count": 4,
          "output_type": "execute_result",
          "data": {
            "text/plain": "  pemain  goal  jumlah_goal_kumulatif\n0   Budi     2                      2\n1   Joni     1                      3\n2   Iwan     3                      6\n3   Budi     1                      7\n4   Budi     1                      8\n5   Iwan     2                     10\n6   Asep     2                     12\n7   Joni     3                     15",
            "text/html": "<div>\n<style scoped>\n    .dataframe tbody tr th:only-of-type {\n        vertical-align: middle;\n    }\n\n    .dataframe tbody tr th {\n        vertical-align: top;\n    }\n\n    .dataframe thead th {\n        text-align: right;\n    }\n</style>\n<table border=\"1\" class=\"dataframe\">\n  <thead>\n    <tr style=\"text-align: right;\">\n      <th></th>\n      <th>pemain</th>\n      <th>goal</th>\n      <th>jumlah_goal_kumulatif</th>\n    </tr>\n  </thead>\n  <tbody>\n    <tr>\n      <th>0</th>\n      <td>Budi</td>\n      <td>2</td>\n      <td>2</td>\n    </tr>\n    <tr>\n      <th>1</th>\n      <td>Joni</td>\n      <td>1</td>\n      <td>3</td>\n    </tr>\n    <tr>\n      <th>2</th>\n      <td>Iwan</td>\n      <td>3</td>\n      <td>6</td>\n    </tr>\n    <tr>\n      <th>3</th>\n      <td>Budi</td>\n      <td>1</td>\n      <td>7</td>\n    </tr>\n    <tr>\n      <th>4</th>\n      <td>Budi</td>\n      <td>1</td>\n      <td>8</td>\n    </tr>\n    <tr>\n      <th>5</th>\n      <td>Iwan</td>\n      <td>2</td>\n      <td>10</td>\n    </tr>\n    <tr>\n      <th>6</th>\n      <td>Asep</td>\n      <td>2</td>\n      <td>12</td>\n    </tr>\n    <tr>\n      <th>7</th>\n      <td>Joni</td>\n      <td>3</td>\n      <td>15</td>\n    </tr>\n  </tbody>\n</table>\n</div>"
          },
          "metadata": {}
        }
      ],
      "execution_count": 4
    },
    {
      "cell_type": "code",
      "source": "df['jumlah_goal_kumulatif_tiap_pemain'] = df.groupby('pemain')['goal'].cumsum()\ndf",
      "metadata": {
        "trusted": true
      },
      "outputs": [
        {
          "execution_count": 5,
          "output_type": "execute_result",
          "data": {
            "text/plain": "  pemain  goal  jumlah_goal_kumulatif  jumlah_goal_kumulatif_tiap_pemain\n0   Budi     2                      2                                  2\n1   Joni     1                      3                                  1\n2   Iwan     3                      6                                  3\n3   Budi     1                      7                                  3\n4   Budi     1                      8                                  4\n5   Iwan     2                     10                                  5\n6   Asep     2                     12                                  2\n7   Joni     3                     15                                  4",
            "text/html": "<div>\n<style scoped>\n    .dataframe tbody tr th:only-of-type {\n        vertical-align: middle;\n    }\n\n    .dataframe tbody tr th {\n        vertical-align: top;\n    }\n\n    .dataframe thead th {\n        text-align: right;\n    }\n</style>\n<table border=\"1\" class=\"dataframe\">\n  <thead>\n    <tr style=\"text-align: right;\">\n      <th></th>\n      <th>pemain</th>\n      <th>goal</th>\n      <th>jumlah_goal_kumulatif</th>\n      <th>jumlah_goal_kumulatif_tiap_pemain</th>\n    </tr>\n  </thead>\n  <tbody>\n    <tr>\n      <th>0</th>\n      <td>Budi</td>\n      <td>2</td>\n      <td>2</td>\n      <td>2</td>\n    </tr>\n    <tr>\n      <th>1</th>\n      <td>Joni</td>\n      <td>1</td>\n      <td>3</td>\n      <td>1</td>\n    </tr>\n    <tr>\n      <th>2</th>\n      <td>Iwan</td>\n      <td>3</td>\n      <td>6</td>\n      <td>3</td>\n    </tr>\n    <tr>\n      <th>3</th>\n      <td>Budi</td>\n      <td>1</td>\n      <td>7</td>\n      <td>3</td>\n    </tr>\n    <tr>\n      <th>4</th>\n      <td>Budi</td>\n      <td>1</td>\n      <td>8</td>\n      <td>4</td>\n    </tr>\n    <tr>\n      <th>5</th>\n      <td>Iwan</td>\n      <td>2</td>\n      <td>10</td>\n      <td>5</td>\n    </tr>\n    <tr>\n      <th>6</th>\n      <td>Asep</td>\n      <td>2</td>\n      <td>12</td>\n      <td>2</td>\n    </tr>\n    <tr>\n      <th>7</th>\n      <td>Joni</td>\n      <td>3</td>\n      <td>15</td>\n      <td>4</td>\n    </tr>\n  </tbody>\n</table>\n</div>"
          },
          "metadata": {}
        }
      ],
      "execution_count": 5
    },
    {
      "cell_type": "code",
      "source": "df['cummax'] = df['goal'].cummax()\ndf",
      "metadata": {
        "trusted": true
      },
      "outputs": [
        {
          "execution_count": 6,
          "output_type": "execute_result",
          "data": {
            "text/plain": "  pemain  goal  jumlah_goal_kumulatif  jumlah_goal_kumulatif_tiap_pemain  \\\n0   Budi     2                      2                                  2   \n1   Joni     1                      3                                  1   \n2   Iwan     3                      6                                  3   \n3   Budi     1                      7                                  3   \n4   Budi     1                      8                                  4   \n5   Iwan     2                     10                                  5   \n6   Asep     2                     12                                  2   \n7   Joni     3                     15                                  4   \n\n   cummax  \n0       2  \n1       2  \n2       3  \n3       3  \n4       3  \n5       3  \n6       3  \n7       3  ",
            "text/html": "<div>\n<style scoped>\n    .dataframe tbody tr th:only-of-type {\n        vertical-align: middle;\n    }\n\n    .dataframe tbody tr th {\n        vertical-align: top;\n    }\n\n    .dataframe thead th {\n        text-align: right;\n    }\n</style>\n<table border=\"1\" class=\"dataframe\">\n  <thead>\n    <tr style=\"text-align: right;\">\n      <th></th>\n      <th>pemain</th>\n      <th>goal</th>\n      <th>jumlah_goal_kumulatif</th>\n      <th>jumlah_goal_kumulatif_tiap_pemain</th>\n      <th>cummax</th>\n    </tr>\n  </thead>\n  <tbody>\n    <tr>\n      <th>0</th>\n      <td>Budi</td>\n      <td>2</td>\n      <td>2</td>\n      <td>2</td>\n      <td>2</td>\n    </tr>\n    <tr>\n      <th>1</th>\n      <td>Joni</td>\n      <td>1</td>\n      <td>3</td>\n      <td>1</td>\n      <td>2</td>\n    </tr>\n    <tr>\n      <th>2</th>\n      <td>Iwan</td>\n      <td>3</td>\n      <td>6</td>\n      <td>3</td>\n      <td>3</td>\n    </tr>\n    <tr>\n      <th>3</th>\n      <td>Budi</td>\n      <td>1</td>\n      <td>7</td>\n      <td>3</td>\n      <td>3</td>\n    </tr>\n    <tr>\n      <th>4</th>\n      <td>Budi</td>\n      <td>1</td>\n      <td>8</td>\n      <td>4</td>\n      <td>3</td>\n    </tr>\n    <tr>\n      <th>5</th>\n      <td>Iwan</td>\n      <td>2</td>\n      <td>10</td>\n      <td>5</td>\n      <td>3</td>\n    </tr>\n    <tr>\n      <th>6</th>\n      <td>Asep</td>\n      <td>2</td>\n      <td>12</td>\n      <td>2</td>\n      <td>3</td>\n    </tr>\n    <tr>\n      <th>7</th>\n      <td>Joni</td>\n      <td>3</td>\n      <td>15</td>\n      <td>4</td>\n      <td>3</td>\n    </tr>\n  </tbody>\n</table>\n</div>"
          },
          "metadata": {}
        }
      ],
      "execution_count": 6
    },
    {
      "cell_type": "code",
      "source": "df['cummin'] = df['goal'].cummin()\ndf",
      "metadata": {
        "trusted": true
      },
      "outputs": [
        {
          "execution_count": 7,
          "output_type": "execute_result",
          "data": {
            "text/plain": "  pemain  goal  jumlah_goal_kumulatif  jumlah_goal_kumulatif_tiap_pemain  \\\n0   Budi     2                      2                                  2   \n1   Joni     1                      3                                  1   \n2   Iwan     3                      6                                  3   \n3   Budi     1                      7                                  3   \n4   Budi     1                      8                                  4   \n5   Iwan     2                     10                                  5   \n6   Asep     2                     12                                  2   \n7   Joni     3                     15                                  4   \n\n   cummax  cummin  \n0       2       2  \n1       2       1  \n2       3       1  \n3       3       1  \n4       3       1  \n5       3       1  \n6       3       1  \n7       3       1  ",
            "text/html": "<div>\n<style scoped>\n    .dataframe tbody tr th:only-of-type {\n        vertical-align: middle;\n    }\n\n    .dataframe tbody tr th {\n        vertical-align: top;\n    }\n\n    .dataframe thead th {\n        text-align: right;\n    }\n</style>\n<table border=\"1\" class=\"dataframe\">\n  <thead>\n    <tr style=\"text-align: right;\">\n      <th></th>\n      <th>pemain</th>\n      <th>goal</th>\n      <th>jumlah_goal_kumulatif</th>\n      <th>jumlah_goal_kumulatif_tiap_pemain</th>\n      <th>cummax</th>\n      <th>cummin</th>\n    </tr>\n  </thead>\n  <tbody>\n    <tr>\n      <th>0</th>\n      <td>Budi</td>\n      <td>2</td>\n      <td>2</td>\n      <td>2</td>\n      <td>2</td>\n      <td>2</td>\n    </tr>\n    <tr>\n      <th>1</th>\n      <td>Joni</td>\n      <td>1</td>\n      <td>3</td>\n      <td>1</td>\n      <td>2</td>\n      <td>1</td>\n    </tr>\n    <tr>\n      <th>2</th>\n      <td>Iwan</td>\n      <td>3</td>\n      <td>6</td>\n      <td>3</td>\n      <td>3</td>\n      <td>1</td>\n    </tr>\n    <tr>\n      <th>3</th>\n      <td>Budi</td>\n      <td>1</td>\n      <td>7</td>\n      <td>3</td>\n      <td>3</td>\n      <td>1</td>\n    </tr>\n    <tr>\n      <th>4</th>\n      <td>Budi</td>\n      <td>1</td>\n      <td>8</td>\n      <td>4</td>\n      <td>3</td>\n      <td>1</td>\n    </tr>\n    <tr>\n      <th>5</th>\n      <td>Iwan</td>\n      <td>2</td>\n      <td>10</td>\n      <td>5</td>\n      <td>3</td>\n      <td>1</td>\n    </tr>\n    <tr>\n      <th>6</th>\n      <td>Asep</td>\n      <td>2</td>\n      <td>12</td>\n      <td>2</td>\n      <td>3</td>\n      <td>1</td>\n    </tr>\n    <tr>\n      <th>7</th>\n      <td>Joni</td>\n      <td>3</td>\n      <td>15</td>\n      <td>4</td>\n      <td>3</td>\n      <td>1</td>\n    </tr>\n  </tbody>\n</table>\n</div>"
          },
          "metadata": {}
        }
      ],
      "execution_count": 7
    },
    {
      "cell_type": "code",
      "source": "df['cumprod'] = df['goal'].cumprod()\ndf",
      "metadata": {
        "trusted": true
      },
      "outputs": [
        {
          "execution_count": 8,
          "output_type": "execute_result",
          "data": {
            "text/plain": "  pemain  goal  jumlah_goal_kumulatif  jumlah_goal_kumulatif_tiap_pemain  \\\n0   Budi     2                      2                                  2   \n1   Joni     1                      3                                  1   \n2   Iwan     3                      6                                  3   \n3   Budi     1                      7                                  3   \n4   Budi     1                      8                                  4   \n5   Iwan     2                     10                                  5   \n6   Asep     2                     12                                  2   \n7   Joni     3                     15                                  4   \n\n   cummax  cummin  cumprod  \n0       2       2        2  \n1       2       1        2  \n2       3       1        6  \n3       3       1        6  \n4       3       1        6  \n5       3       1       12  \n6       3       1       24  \n7       3       1       72  ",
            "text/html": "<div>\n<style scoped>\n    .dataframe tbody tr th:only-of-type {\n        vertical-align: middle;\n    }\n\n    .dataframe tbody tr th {\n        vertical-align: top;\n    }\n\n    .dataframe thead th {\n        text-align: right;\n    }\n</style>\n<table border=\"1\" class=\"dataframe\">\n  <thead>\n    <tr style=\"text-align: right;\">\n      <th></th>\n      <th>pemain</th>\n      <th>goal</th>\n      <th>jumlah_goal_kumulatif</th>\n      <th>jumlah_goal_kumulatif_tiap_pemain</th>\n      <th>cummax</th>\n      <th>cummin</th>\n      <th>cumprod</th>\n    </tr>\n  </thead>\n  <tbody>\n    <tr>\n      <th>0</th>\n      <td>Budi</td>\n      <td>2</td>\n      <td>2</td>\n      <td>2</td>\n      <td>2</td>\n      <td>2</td>\n      <td>2</td>\n    </tr>\n    <tr>\n      <th>1</th>\n      <td>Joni</td>\n      <td>1</td>\n      <td>3</td>\n      <td>1</td>\n      <td>2</td>\n      <td>1</td>\n      <td>2</td>\n    </tr>\n    <tr>\n      <th>2</th>\n      <td>Iwan</td>\n      <td>3</td>\n      <td>6</td>\n      <td>3</td>\n      <td>3</td>\n      <td>1</td>\n      <td>6</td>\n    </tr>\n    <tr>\n      <th>3</th>\n      <td>Budi</td>\n      <td>1</td>\n      <td>7</td>\n      <td>3</td>\n      <td>3</td>\n      <td>1</td>\n      <td>6</td>\n    </tr>\n    <tr>\n      <th>4</th>\n      <td>Budi</td>\n      <td>1</td>\n      <td>8</td>\n      <td>4</td>\n      <td>3</td>\n      <td>1</td>\n      <td>6</td>\n    </tr>\n    <tr>\n      <th>5</th>\n      <td>Iwan</td>\n      <td>2</td>\n      <td>10</td>\n      <td>5</td>\n      <td>3</td>\n      <td>1</td>\n      <td>12</td>\n    </tr>\n    <tr>\n      <th>6</th>\n      <td>Asep</td>\n      <td>2</td>\n      <td>12</td>\n      <td>2</td>\n      <td>3</td>\n      <td>1</td>\n      <td>24</td>\n    </tr>\n    <tr>\n      <th>7</th>\n      <td>Joni</td>\n      <td>3</td>\n      <td>15</td>\n      <td>4</td>\n      <td>3</td>\n      <td>1</td>\n      <td>72</td>\n    </tr>\n  </tbody>\n</table>\n</div>"
          },
          "metadata": {}
        }
      ],
      "execution_count": 8
    }
  ]
}