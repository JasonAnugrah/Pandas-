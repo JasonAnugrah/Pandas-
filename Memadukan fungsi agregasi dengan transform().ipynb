{
  "metadata": {
    "kernelspec": {
      "name": "python",
      "display_name": "Python (Pyodide)",
      "language": "python"
    },
    "language_info": {
      "codemirror_mode": {
        "name": "python",
        "version": 3
      },
      "file_extension": ".py",
      "mimetype": "text/x-python",
      "name": "python",
      "nbconvert_exporter": "python",
      "pygments_lexer": "ipython3",
      "version": "3.8"
    }
  },
  "nbformat_minor": 4,
  "nbformat": 4,
  "cells": [
    {
      "cell_type": "code",
      "source": "import pandas as pd\n\nprint(pd.__version__)",
      "metadata": {
        "trusted": true
      },
      "outputs": [
        {
          "name": "stdout",
          "text": "1.5.3\n",
          "output_type": "stream"
        }
      ],
      "execution_count": 1
    },
    {
      "cell_type": "code",
      "source": "d = {'no_nota':[1, 1, 1, 2, 2, 3, 4, 5], \n     'kopi': ['latte', 'cappuccino', 'espresso', 'latte', 'espresso', 'cappuccino', 'latte', 'espresso'],\n     'harga':[50, 60, 80, 150, 120, 60, 100, 40]}\n\ndf = pd.DataFrame(d)\ndf",
      "metadata": {
        "trusted": true
      },
      "outputs": [
        {
          "execution_count": 2,
          "output_type": "execute_result",
          "data": {
            "text/plain": "   no_nota        kopi  harga\n0        1       latte     50\n1        1  cappuccino     60\n2        1    espresso     80\n3        2       latte    150\n4        2    espresso    120\n5        3  cappuccino     60\n6        4       latte    100\n7        5    espresso     40",
            "text/html": "<div>\n<style scoped>\n    .dataframe tbody tr th:only-of-type {\n        vertical-align: middle;\n    }\n\n    .dataframe tbody tr th {\n        vertical-align: top;\n    }\n\n    .dataframe thead th {\n        text-align: right;\n    }\n</style>\n<table border=\"1\" class=\"dataframe\">\n  <thead>\n    <tr style=\"text-align: right;\">\n      <th></th>\n      <th>no_nota</th>\n      <th>kopi</th>\n      <th>harga</th>\n    </tr>\n  </thead>\n  <tbody>\n    <tr>\n      <th>0</th>\n      <td>1</td>\n      <td>latte</td>\n      <td>50</td>\n    </tr>\n    <tr>\n      <th>1</th>\n      <td>1</td>\n      <td>cappuccino</td>\n      <td>60</td>\n    </tr>\n    <tr>\n      <th>2</th>\n      <td>1</td>\n      <td>espresso</td>\n      <td>80</td>\n    </tr>\n    <tr>\n      <th>3</th>\n      <td>2</td>\n      <td>latte</td>\n      <td>150</td>\n    </tr>\n    <tr>\n      <th>4</th>\n      <td>2</td>\n      <td>espresso</td>\n      <td>120</td>\n    </tr>\n    <tr>\n      <th>5</th>\n      <td>3</td>\n      <td>cappuccino</td>\n      <td>60</td>\n    </tr>\n    <tr>\n      <th>6</th>\n      <td>4</td>\n      <td>latte</td>\n      <td>100</td>\n    </tr>\n    <tr>\n      <th>7</th>\n      <td>5</td>\n      <td>espresso</td>\n      <td>40</td>\n    </tr>\n  </tbody>\n</table>\n</div>"
          },
          "metadata": {}
        }
      ],
      "execution_count": 2
    },
    {
      "cell_type": "code",
      "source": "df.groupby('no_nota')['harga'].sum().to_frame()",
      "metadata": {
        "trusted": true
      },
      "outputs": [
        {
          "execution_count": 3,
          "output_type": "execute_result",
          "data": {
            "text/plain": "         harga\nno_nota       \n1          190\n2          270\n3           60\n4          100\n5           40",
            "text/html": "<div>\n<style scoped>\n    .dataframe tbody tr th:only-of-type {\n        vertical-align: middle;\n    }\n\n    .dataframe tbody tr th {\n        vertical-align: top;\n    }\n\n    .dataframe thead th {\n        text-align: right;\n    }\n</style>\n<table border=\"1\" class=\"dataframe\">\n  <thead>\n    <tr style=\"text-align: right;\">\n      <th></th>\n      <th>harga</th>\n    </tr>\n    <tr>\n      <th>no_nota</th>\n      <th></th>\n    </tr>\n  </thead>\n  <tbody>\n    <tr>\n      <th>1</th>\n      <td>190</td>\n    </tr>\n    <tr>\n      <th>2</th>\n      <td>270</td>\n    </tr>\n    <tr>\n      <th>3</th>\n      <td>60</td>\n    </tr>\n    <tr>\n      <th>4</th>\n      <td>100</td>\n    </tr>\n    <tr>\n      <th>5</th>\n      <td>40</td>\n    </tr>\n  </tbody>\n</table>\n</div>"
          },
          "metadata": {}
        }
      ],
      "execution_count": 3
    },
    {
      "cell_type": "code",
      "source": "df['total_harga'] = df.groupby('no_nota')['harga'].transform(sum)\ndf",
      "metadata": {
        "trusted": true
      },
      "outputs": [
        {
          "execution_count": 4,
          "output_type": "execute_result",
          "data": {
            "text/plain": "   no_nota        kopi  harga  total_harga\n0        1       latte     50          190\n1        1  cappuccino     60          190\n2        1    espresso     80          190\n3        2       latte    150          270\n4        2    espresso    120          270\n5        3  cappuccino     60           60\n6        4       latte    100          100\n7        5    espresso     40           40",
            "text/html": "<div>\n<style scoped>\n    .dataframe tbody tr th:only-of-type {\n        vertical-align: middle;\n    }\n\n    .dataframe tbody tr th {\n        vertical-align: top;\n    }\n\n    .dataframe thead th {\n        text-align: right;\n    }\n</style>\n<table border=\"1\" class=\"dataframe\">\n  <thead>\n    <tr style=\"text-align: right;\">\n      <th></th>\n      <th>no_nota</th>\n      <th>kopi</th>\n      <th>harga</th>\n      <th>total_harga</th>\n    </tr>\n  </thead>\n  <tbody>\n    <tr>\n      <th>0</th>\n      <td>1</td>\n      <td>latte</td>\n      <td>50</td>\n      <td>190</td>\n    </tr>\n    <tr>\n      <th>1</th>\n      <td>1</td>\n      <td>cappuccino</td>\n      <td>60</td>\n      <td>190</td>\n    </tr>\n    <tr>\n      <th>2</th>\n      <td>1</td>\n      <td>espresso</td>\n      <td>80</td>\n      <td>190</td>\n    </tr>\n    <tr>\n      <th>3</th>\n      <td>2</td>\n      <td>latte</td>\n      <td>150</td>\n      <td>270</td>\n    </tr>\n    <tr>\n      <th>4</th>\n      <td>2</td>\n      <td>espresso</td>\n      <td>120</td>\n      <td>270</td>\n    </tr>\n    <tr>\n      <th>5</th>\n      <td>3</td>\n      <td>cappuccino</td>\n      <td>60</td>\n      <td>60</td>\n    </tr>\n    <tr>\n      <th>6</th>\n      <td>4</td>\n      <td>latte</td>\n      <td>100</td>\n      <td>100</td>\n    </tr>\n    <tr>\n      <th>7</th>\n      <td>5</td>\n      <td>espresso</td>\n      <td>40</td>\n      <td>40</td>\n    </tr>\n  </tbody>\n</table>\n</div>"
          },
          "metadata": {}
        }
      ],
      "execution_count": 4
    },
    {
      "cell_type": "code",
      "source": "df.groupby('kopi')['harga'].sum().to_frame()",
      "metadata": {
        "trusted": true
      },
      "outputs": [
        {
          "execution_count": 5,
          "output_type": "execute_result",
          "data": {
            "text/plain": "            harga\nkopi             \ncappuccino    120\nespresso      240\nlatte         300",
            "text/html": "<div>\n<style scoped>\n    .dataframe tbody tr th:only-of-type {\n        vertical-align: middle;\n    }\n\n    .dataframe tbody tr th {\n        vertical-align: top;\n    }\n\n    .dataframe thead th {\n        text-align: right;\n    }\n</style>\n<table border=\"1\" class=\"dataframe\">\n  <thead>\n    <tr style=\"text-align: right;\">\n      <th></th>\n      <th>harga</th>\n    </tr>\n    <tr>\n      <th>kopi</th>\n      <th></th>\n    </tr>\n  </thead>\n  <tbody>\n    <tr>\n      <th>cappuccino</th>\n      <td>120</td>\n    </tr>\n    <tr>\n      <th>espresso</th>\n      <td>240</td>\n    </tr>\n    <tr>\n      <th>latte</th>\n      <td>300</td>\n    </tr>\n  </tbody>\n</table>\n</div>"
          },
          "metadata": {}
        }
      ],
      "execution_count": 5
    },
    {
      "cell_type": "code",
      "source": "df['total_omset'] = df.groupby('kopi')['harga'].transform(sum)\ndf",
      "metadata": {
        "trusted": true
      },
      "outputs": [
        {
          "execution_count": 6,
          "output_type": "execute_result",
          "data": {
            "text/plain": "   no_nota        kopi  harga  total_harga  total_omset\n0        1       latte     50          190          300\n1        1  cappuccino     60          190          120\n2        1    espresso     80          190          240\n3        2       latte    150          270          300\n4        2    espresso    120          270          240\n5        3  cappuccino     60           60          120\n6        4       latte    100          100          300\n7        5    espresso     40           40          240",
            "text/html": "<div>\n<style scoped>\n    .dataframe tbody tr th:only-of-type {\n        vertical-align: middle;\n    }\n\n    .dataframe tbody tr th {\n        vertical-align: top;\n    }\n\n    .dataframe thead th {\n        text-align: right;\n    }\n</style>\n<table border=\"1\" class=\"dataframe\">\n  <thead>\n    <tr style=\"text-align: right;\">\n      <th></th>\n      <th>no_nota</th>\n      <th>kopi</th>\n      <th>harga</th>\n      <th>total_harga</th>\n      <th>total_omset</th>\n    </tr>\n  </thead>\n  <tbody>\n    <tr>\n      <th>0</th>\n      <td>1</td>\n      <td>latte</td>\n      <td>50</td>\n      <td>190</td>\n      <td>300</td>\n    </tr>\n    <tr>\n      <th>1</th>\n      <td>1</td>\n      <td>cappuccino</td>\n      <td>60</td>\n      <td>190</td>\n      <td>120</td>\n    </tr>\n    <tr>\n      <th>2</th>\n      <td>1</td>\n      <td>espresso</td>\n      <td>80</td>\n      <td>190</td>\n      <td>240</td>\n    </tr>\n    <tr>\n      <th>3</th>\n      <td>2</td>\n      <td>latte</td>\n      <td>150</td>\n      <td>270</td>\n      <td>300</td>\n    </tr>\n    <tr>\n      <th>4</th>\n      <td>2</td>\n      <td>espresso</td>\n      <td>120</td>\n      <td>270</td>\n      <td>240</td>\n    </tr>\n    <tr>\n      <th>5</th>\n      <td>3</td>\n      <td>cappuccino</td>\n      <td>60</td>\n      <td>60</td>\n      <td>120</td>\n    </tr>\n    <tr>\n      <th>6</th>\n      <td>4</td>\n      <td>latte</td>\n      <td>100</td>\n      <td>100</td>\n      <td>300</td>\n    </tr>\n    <tr>\n      <th>7</th>\n      <td>5</td>\n      <td>espresso</td>\n      <td>40</td>\n      <td>40</td>\n      <td>240</td>\n    </tr>\n  </tbody>\n</table>\n</div>"
          },
          "metadata": {}
        }
      ],
      "execution_count": 6
    },
    {
      "cell_type": "code",
      "source": "",
      "metadata": {
        "trusted": true
      },
      "outputs": [],
      "execution_count": null
    }
  ]
}