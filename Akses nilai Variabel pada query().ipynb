{
  "metadata": {
    "kernelspec": {
      "name": "python",
      "display_name": "Python (Pyodide)",
      "language": "python"
    },
    "language_info": {
      "codemirror_mode": {
        "name": "python",
        "version": 3
      },
      "file_extension": ".py",
      "mimetype": "text/x-python",
      "name": "python",
      "nbconvert_exporter": "python",
      "pygments_lexer": "ipython3",
      "version": "3.8"
    }
  },
  "nbformat_minor": 4,
  "nbformat": 4,
  "cells": [
    {
      "cell_type": "code",
      "source": "import pandas as pd\nimport numpy as np\n\nprint(pd.__version__)\nprint(np.__version__)",
      "metadata": {
        "trusted": true
      },
      "outputs": [
        {
          "name": "stdout",
          "text": "1.5.3\n1.25.2\n",
          "output_type": "stream"
        }
      ],
      "execution_count": 1
    },
    {
      "cell_type": "code",
      "source": "n_rows = 5\nn_cols = 5\ncols = tuple('ABCDE')\n\ndf = pd.DataFrame(np.random.randint(1, 20, size=(n_rows, n_cols)), \n                  columns=cols)\ndf",
      "metadata": {
        "trusted": true
      },
      "outputs": [
        {
          "execution_count": 5,
          "output_type": "execute_result",
          "data": {
            "text/plain": "    A   B   C   D   E\n0  18  19  16  14   5\n1  12   1  18  18  10\n2  16   1   8   6   2\n3  15  18  19  11  19\n4   9  19   7   1   8",
            "text/html": "<div>\n<style scoped>\n    .dataframe tbody tr th:only-of-type {\n        vertical-align: middle;\n    }\n\n    .dataframe tbody tr th {\n        vertical-align: top;\n    }\n\n    .dataframe thead th {\n        text-align: right;\n    }\n</style>\n<table border=\"1\" class=\"dataframe\">\n  <thead>\n    <tr style=\"text-align: right;\">\n      <th></th>\n      <th>A</th>\n      <th>B</th>\n      <th>C</th>\n      <th>D</th>\n      <th>E</th>\n    </tr>\n  </thead>\n  <tbody>\n    <tr>\n      <th>0</th>\n      <td>18</td>\n      <td>19</td>\n      <td>16</td>\n      <td>14</td>\n      <td>5</td>\n    </tr>\n    <tr>\n      <th>1</th>\n      <td>12</td>\n      <td>1</td>\n      <td>18</td>\n      <td>18</td>\n      <td>10</td>\n    </tr>\n    <tr>\n      <th>2</th>\n      <td>16</td>\n      <td>1</td>\n      <td>8</td>\n      <td>6</td>\n      <td>2</td>\n    </tr>\n    <tr>\n      <th>3</th>\n      <td>15</td>\n      <td>18</td>\n      <td>19</td>\n      <td>11</td>\n      <td>19</td>\n    </tr>\n    <tr>\n      <th>4</th>\n      <td>9</td>\n      <td>19</td>\n      <td>7</td>\n      <td>1</td>\n      <td>8</td>\n    </tr>\n  </tbody>\n</table>\n</div>"
          },
          "metadata": {}
        }
      ],
      "execution_count": 5
    },
    {
      "cell_type": "code",
      "source": "df.query('A > 10')",
      "metadata": {
        "trusted": true
      },
      "outputs": [
        {
          "execution_count": 7,
          "output_type": "execute_result",
          "data": {
            "text/plain": "    A   B   C   D   E\n0  18  19  16  14   5\n1  12   1  18  18  10\n2  16   1   8   6   2\n3  15  18  19  11  19",
            "text/html": "<div>\n<style scoped>\n    .dataframe tbody tr th:only-of-type {\n        vertical-align: middle;\n    }\n\n    .dataframe tbody tr th {\n        vertical-align: top;\n    }\n\n    .dataframe thead th {\n        text-align: right;\n    }\n</style>\n<table border=\"1\" class=\"dataframe\">\n  <thead>\n    <tr style=\"text-align: right;\">\n      <th></th>\n      <th>A</th>\n      <th>B</th>\n      <th>C</th>\n      <th>D</th>\n      <th>E</th>\n    </tr>\n  </thead>\n  <tbody>\n    <tr>\n      <th>0</th>\n      <td>18</td>\n      <td>19</td>\n      <td>16</td>\n      <td>14</td>\n      <td>5</td>\n    </tr>\n    <tr>\n      <th>1</th>\n      <td>12</td>\n      <td>1</td>\n      <td>18</td>\n      <td>18</td>\n      <td>10</td>\n    </tr>\n    <tr>\n      <th>2</th>\n      <td>16</td>\n      <td>1</td>\n      <td>8</td>\n      <td>6</td>\n      <td>2</td>\n    </tr>\n    <tr>\n      <th>3</th>\n      <td>15</td>\n      <td>18</td>\n      <td>19</td>\n      <td>11</td>\n      <td>19</td>\n    </tr>\n  </tbody>\n</table>\n</div>"
          },
          "metadata": {}
        }
      ],
      "execution_count": 7
    },
    {
      "cell_type": "code",
      "source": "rerata = df['A'].mean()\nrerata",
      "metadata": {
        "trusted": true
      },
      "outputs": [
        {
          "execution_count": 8,
          "output_type": "execute_result",
          "data": {
            "text/plain": "14.0"
          },
          "metadata": {}
        }
      ],
      "execution_count": 8
    },
    {
      "cell_type": "code",
      "source": "df.query('A > @rerata')",
      "metadata": {
        "trusted": true
      },
      "outputs": [
        {
          "execution_count": 9,
          "output_type": "execute_result",
          "data": {
            "text/plain": "    A   B   C   D   E\n0  18  19  16  14   5\n2  16   1   8   6   2\n3  15  18  19  11  19",
            "text/html": "<div>\n<style scoped>\n    .dataframe tbody tr th:only-of-type {\n        vertical-align: middle;\n    }\n\n    .dataframe tbody tr th {\n        vertical-align: top;\n    }\n\n    .dataframe thead th {\n        text-align: right;\n    }\n</style>\n<table border=\"1\" class=\"dataframe\">\n  <thead>\n    <tr style=\"text-align: right;\">\n      <th></th>\n      <th>A</th>\n      <th>B</th>\n      <th>C</th>\n      <th>D</th>\n      <th>E</th>\n    </tr>\n  </thead>\n  <tbody>\n    <tr>\n      <th>0</th>\n      <td>18</td>\n      <td>19</td>\n      <td>16</td>\n      <td>14</td>\n      <td>5</td>\n    </tr>\n    <tr>\n      <th>2</th>\n      <td>16</td>\n      <td>1</td>\n      <td>8</td>\n      <td>6</td>\n      <td>2</td>\n    </tr>\n    <tr>\n      <th>3</th>\n      <td>15</td>\n      <td>18</td>\n      <td>19</td>\n      <td>11</td>\n      <td>19</td>\n    </tr>\n  </tbody>\n</table>\n</div>"
          },
          "metadata": {}
        }
      ],
      "execution_count": 9
    },
    {
      "cell_type": "code",
      "source": "",
      "metadata": {
        "trusted": true
      },
      "outputs": [],
      "execution_count": null
    }
  ]
}