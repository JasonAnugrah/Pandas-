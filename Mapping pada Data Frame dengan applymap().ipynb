{
  "metadata": {
    "kernelspec": {
      "name": "python",
      "display_name": "Python (Pyodide)",
      "language": "python"
    },
    "language_info": {
      "codemirror_mode": {
        "name": "python",
        "version": 3
      },
      "file_extension": ".py",
      "mimetype": "text/x-python",
      "name": "python",
      "nbconvert_exporter": "python",
      "pygments_lexer": "ipython3",
      "version": "3.8"
    }
  },
  "nbformat_minor": 4,
  "nbformat": 4,
  "cells": [
    {
      "cell_type": "code",
      "source": "import pandas as pd\n\nprint(pd.__version__)",
      "metadata": {
        "trusted": true
      },
      "outputs": [
        {
          "name": "stdout",
          "text": "1.5.3\n",
          "output_type": "stream"
        }
      ],
      "execution_count": 1
    },
    {
      "cell_type": "code",
      "source": "df = pd.DataFrame({'jenis_kelamin':['Pria', 'Wanita', 'lelaki', 'Lelaki', 'perempuan'], \n                   'usia':[23, 21, 24, 22, 21], \n                   'shift':['pagi', 'siang', 'Malam', 'Siang', 'pagi']})\ndf",
      "metadata": {
        "trusted": true
      },
      "outputs": [
        {
          "execution_count": 2,
          "output_type": "execute_result",
          "data": {
            "text/plain": "  jenis_kelamin  usia  shift\n0          Pria    23   pagi\n1        Wanita    21  siang\n2        lelaki    24  Malam\n3        Lelaki    22  Siang\n4     perempuan    21   pagi",
            "text/html": "<div>\n<style scoped>\n    .dataframe tbody tr th:only-of-type {\n        vertical-align: middle;\n    }\n\n    .dataframe tbody tr th {\n        vertical-align: top;\n    }\n\n    .dataframe thead th {\n        text-align: right;\n    }\n</style>\n<table border=\"1\" class=\"dataframe\">\n  <thead>\n    <tr style=\"text-align: right;\">\n      <th></th>\n      <th>jenis_kelamin</th>\n      <th>usia</th>\n      <th>shift</th>\n    </tr>\n  </thead>\n  <tbody>\n    <tr>\n      <th>0</th>\n      <td>Pria</td>\n      <td>23</td>\n      <td>pagi</td>\n    </tr>\n    <tr>\n      <th>1</th>\n      <td>Wanita</td>\n      <td>21</td>\n      <td>siang</td>\n    </tr>\n    <tr>\n      <th>2</th>\n      <td>lelaki</td>\n      <td>24</td>\n      <td>Malam</td>\n    </tr>\n    <tr>\n      <th>3</th>\n      <td>Lelaki</td>\n      <td>22</td>\n      <td>Siang</td>\n    </tr>\n    <tr>\n      <th>4</th>\n      <td>perempuan</td>\n      <td>21</td>\n      <td>pagi</td>\n    </tr>\n  </tbody>\n</table>\n</div>"
          },
          "metadata": {}
        }
      ],
      "execution_count": 2
    },
    {
      "cell_type": "code",
      "source": "df = df.applymap(lambda x: x.lower() if type(x) == str else x)\ndf",
      "metadata": {
        "trusted": true
      },
      "outputs": [
        {
          "execution_count": 3,
          "output_type": "execute_result",
          "data": {
            "text/plain": "  jenis_kelamin  usia  shift\n0          pria    23   pagi\n1        wanita    21  siang\n2        lelaki    24  malam\n3        lelaki    22  siang\n4     perempuan    21   pagi",
            "text/html": "<div>\n<style scoped>\n    .dataframe tbody tr th:only-of-type {\n        vertical-align: middle;\n    }\n\n    .dataframe tbody tr th {\n        vertical-align: top;\n    }\n\n    .dataframe thead th {\n        text-align: right;\n    }\n</style>\n<table border=\"1\" class=\"dataframe\">\n  <thead>\n    <tr style=\"text-align: right;\">\n      <th></th>\n      <th>jenis_kelamin</th>\n      <th>usia</th>\n      <th>shift</th>\n    </tr>\n  </thead>\n  <tbody>\n    <tr>\n      <th>0</th>\n      <td>pria</td>\n      <td>23</td>\n      <td>pagi</td>\n    </tr>\n    <tr>\n      <th>1</th>\n      <td>wanita</td>\n      <td>21</td>\n      <td>siang</td>\n    </tr>\n    <tr>\n      <th>2</th>\n      <td>lelaki</td>\n      <td>24</td>\n      <td>malam</td>\n    </tr>\n    <tr>\n      <th>3</th>\n      <td>lelaki</td>\n      <td>22</td>\n      <td>siang</td>\n    </tr>\n    <tr>\n      <th>4</th>\n      <td>perempuan</td>\n      <td>21</td>\n      <td>pagi</td>\n    </tr>\n  </tbody>\n</table>\n</div>"
          },
          "metadata": {}
        }
      ],
      "execution_count": 3
    },
    {
      "cell_type": "code",
      "source": "mapping = {'pria':'L',\n           'lelaki':'L',\n           'wanita':'P',\n           'perempuan':'P',\n           'pagi':1,\n           'siang':2,\n           'malam':3}\n\ndf.applymap(mapping.get)",
      "metadata": {
        "trusted": true
      },
      "outputs": [
        {
          "execution_count": 4,
          "output_type": "execute_result",
          "data": {
            "text/plain": "  jenis_kelamin  usia  shift\n0             L  None      1\n1             P  None      2\n2             L  None      3\n3             L  None      2\n4             P  None      1",
            "text/html": "<div>\n<style scoped>\n    .dataframe tbody tr th:only-of-type {\n        vertical-align: middle;\n    }\n\n    .dataframe tbody tr th {\n        vertical-align: top;\n    }\n\n    .dataframe thead th {\n        text-align: right;\n    }\n</style>\n<table border=\"1\" class=\"dataframe\">\n  <thead>\n    <tr style=\"text-align: right;\">\n      <th></th>\n      <th>jenis_kelamin</th>\n      <th>usia</th>\n      <th>shift</th>\n    </tr>\n  </thead>\n  <tbody>\n    <tr>\n      <th>0</th>\n      <td>L</td>\n      <td>None</td>\n      <td>1</td>\n    </tr>\n    <tr>\n      <th>1</th>\n      <td>P</td>\n      <td>None</td>\n      <td>2</td>\n    </tr>\n    <tr>\n      <th>2</th>\n      <td>L</td>\n      <td>None</td>\n      <td>3</td>\n    </tr>\n    <tr>\n      <th>3</th>\n      <td>L</td>\n      <td>None</td>\n      <td>2</td>\n    </tr>\n    <tr>\n      <th>4</th>\n      <td>P</td>\n      <td>None</td>\n      <td>1</td>\n    </tr>\n  </tbody>\n</table>\n</div>"
          },
          "metadata": {}
        }
      ],
      "execution_count": 4
    },
    {
      "cell_type": "code",
      "source": "df[['jenis_kelamin', 'shift']] = df[['jenis_kelamin', 'shift']].applymap(mapping.get)\n\ndf",
      "metadata": {
        "trusted": true
      },
      "outputs": [
        {
          "execution_count": 5,
          "output_type": "execute_result",
          "data": {
            "text/plain": "  jenis_kelamin  usia  shift\n0             L    23      1\n1             P    21      2\n2             L    24      3\n3             L    22      2\n4             P    21      1",
            "text/html": "<div>\n<style scoped>\n    .dataframe tbody tr th:only-of-type {\n        vertical-align: middle;\n    }\n\n    .dataframe tbody tr th {\n        vertical-align: top;\n    }\n\n    .dataframe thead th {\n        text-align: right;\n    }\n</style>\n<table border=\"1\" class=\"dataframe\">\n  <thead>\n    <tr style=\"text-align: right;\">\n      <th></th>\n      <th>jenis_kelamin</th>\n      <th>usia</th>\n      <th>shift</th>\n    </tr>\n  </thead>\n  <tbody>\n    <tr>\n      <th>0</th>\n      <td>L</td>\n      <td>23</td>\n      <td>1</td>\n    </tr>\n    <tr>\n      <th>1</th>\n      <td>P</td>\n      <td>21</td>\n      <td>2</td>\n    </tr>\n    <tr>\n      <th>2</th>\n      <td>L</td>\n      <td>24</td>\n      <td>3</td>\n    </tr>\n    <tr>\n      <th>3</th>\n      <td>L</td>\n      <td>22</td>\n      <td>2</td>\n    </tr>\n    <tr>\n      <th>4</th>\n      <td>P</td>\n      <td>21</td>\n      <td>1</td>\n    </tr>\n  </tbody>\n</table>\n</div>"
          },
          "metadata": {}
        }
      ],
      "execution_count": 5
    },
    {
      "cell_type": "code",
      "source": "",
      "metadata": {
        "trusted": true
      },
      "outputs": [],
      "execution_count": null
    }
  ]
}